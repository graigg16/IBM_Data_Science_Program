{
 "cells": [
  {
   "cell_type": "markdown",
   "id": "086060eb-26bc-4c5d-b7d5-46764588154e",
   "metadata": {},
   "source": [
    "# Data Science Tools and Ecosystems"
   ]
  },
  {
   "cell_type": "markdown",
   "id": "5689ac86-5d3a-42f1-933c-2a18811d9dca",
   "metadata": {},
   "source": [
    "In this notebook, Data Science Tools and Ecosystems are summarized."
   ]
  },
  {
   "cell_type": "markdown",
   "id": "66b3ba33-e3b9-4bf0-9e18-0ac9748be381",
   "metadata": {},
   "source": [
    "Some of the popular languages that Data Scientists use are:\n",
    "\n",
    "1. R\n",
    "2. Python\n",
    "3. SQL\n",
    "4. Scala\n",
    "5. Julia"
   ]
  },
  {
   "cell_type": "markdown",
   "id": "0be044a3-16b4-4385-84d8-4020fc6bbdb1",
   "metadata": {},
   "source": [
    "Some of the most commonly used libraries used by data scientists include:\n",
    "\n",
    "1. ggplot\n",
    "2. plotly\n",
    "3. matplotlib\n",
    "4. pandas"
   ]
  },
  {
   "cell_type": "markdown",
   "id": "bd25726a-242c-471b-8fb7-a0cc3ac5facb",
   "metadata": {},
   "source": [
    "| Data Science Tools |\n",
    "|- |\n",
    "|RStudio|\n",
    "|Jupyter Notebook|\n",
    "|JupyterLab|"
   ]
  },
  {
   "cell_type": "markdown",
   "id": "461974af-8b68-4da8-9b0d-20777063046c",
   "metadata": {},
   "source": [
    "### Below are a few examples of evaluating arithmetic expressions in Python"
   ]
  },
  {
   "cell_type": "code",
   "execution_count": 38,
   "id": "1710186d-f180-499f-860e-5fb6ff94cc1e",
   "metadata": {},
   "outputs": [
    {
     "data": {
      "text/plain": [
       "17"
      ]
     },
     "execution_count": 38,
     "metadata": {},
     "output_type": "execute_result"
    }
   ],
   "source": [
    "#This is a simple arithmetic expression to multiply then add integers\n",
    "(3*4)+5"
   ]
  },
  {
   "cell_type": "code",
   "execution_count": 25,
   "id": "7239052c-e59c-4ac8-b3db-28ba596b83c7",
   "metadata": {},
   "outputs": [
    {
     "name": "stdout",
     "output_type": "stream",
     "text": [
      "3.3333333333333335\n"
     ]
    }
   ],
   "source": [
    "a=200\n",
    "b=a/60\n",
    "print(b)\n",
    "#This will convert 200 minutes to hours by dividing by 60"
   ]
  },
  {
   "cell_type": "markdown",
   "id": "bf4704cb-6e8c-4992-a78b-073bb5d9206a",
   "metadata": {},
   "source": [
    "**Objectives:**\n",
    "\n",
    "+ Popular Languages in Data Science\n",
    "+ Popular Libraries\n",
    "+ Data Science Tools\n",
    "+ Example Arithmetic Functions\n"
   ]
  },
  {
   "cell_type": "markdown",
   "id": "cf17f57a-6242-422a-8d11-efcec1b169ff",
   "metadata": {},
   "source": [
    "## Author\n",
    "Graig Gitchell"
   ]
  },
  {
   "cell_type": "code",
   "execution_count": null,
   "id": "072045d2-8414-47a7-bd58-f9f2becb0a92",
   "metadata": {},
   "outputs": [],
   "source": []
  }
 ],
 "metadata": {
  "kernelspec": {
   "display_name": "Python 3 (ipykernel)",
   "language": "python",
   "name": "python3"
  },
  "language_info": {
   "codemirror_mode": {
    "name": "ipython",
    "version": 3
   },
   "file_extension": ".py",
   "mimetype": "text/x-python",
   "name": "python",
   "nbconvert_exporter": "python",
   "pygments_lexer": "ipython3",
   "version": "3.12.4"
  }
 },
 "nbformat": 4,
 "nbformat_minor": 5
}
